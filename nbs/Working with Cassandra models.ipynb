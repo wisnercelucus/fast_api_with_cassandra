{
 "cells": [
  {
   "cell_type": "code",
   "execution_count": 1,
   "id": "79f8ad89",
   "metadata": {},
   "outputs": [],
   "source": [
    "import os"
   ]
  },
  {
   "cell_type": "code",
   "execution_count": 2,
   "id": "8fd736b8",
   "metadata": {},
   "outputs": [
    {
     "name": "stdout",
     "output_type": "stream",
     "text": [
      "C:\\workspace\\webscraping\\Scrape-Websites-with-Python-FastAPI-Celery-NoSQL\n"
     ]
    }
   ],
   "source": [
    "cd C:/workspace/webscraping/Scrape-Websites-with-Python-FastAPI-Celery-NoSQL/"
   ]
  },
  {
   "cell_type": "code",
   "execution_count": 3,
   "id": "1db6a14e",
   "metadata": {},
   "outputs": [
    {
     "data": {
      "text/plain": [
       "'C:\\\\workspace\\\\webscraping\\\\Scrape-Websites-with-Python-FastAPI-Celery-NoSQL'"
      ]
     },
     "execution_count": 3,
     "metadata": {},
     "output_type": "execute_result"
    }
   ],
   "source": [
    "os.getcwd()"
   ]
  },
  {
   "cell_type": "code",
   "execution_count": 4,
   "id": "a8604e68",
   "metadata": {},
   "outputs": [],
   "source": [
    "from app import models, crud"
   ]
  },
  {
   "cell_type": "code",
   "execution_count": 5,
   "id": "7120123b",
   "metadata": {},
   "outputs": [],
   "source": [
    "data = models.data"
   ]
  },
  {
   "cell_type": "code",
   "execution_count": 6,
   "id": "3617fb25",
   "metadata": {},
   "outputs": [
    {
     "data": {
      "text/plain": [
       "(Product(asin='AMZIDNUMBER', title='My Cool Product', price_str=None),\n",
       " ProductScrapeEvent(uuid=UUID('473fbd6d-8b68-11ec-8c5e-1c1bb55c12cc'), asin='AMZIDNUMBER', title='My Cool Product', price_str=None))"
      ]
     },
     "execution_count": 6,
     "metadata": {},
     "output_type": "execute_result"
    }
   ],
   "source": [
    "crud.add_scrape_entry(data, fresh=True)"
   ]
  },
  {
   "cell_type": "code",
   "execution_count": 7,
   "id": "1daa35be",
   "metadata": {},
   "outputs": [
    {
     "data": {
      "text/plain": [
       "{'asin': 'AMZIDNUMBER', 'title': 'My Cool Product'}"
      ]
     },
     "execution_count": 7,
     "metadata": {},
     "output_type": "execute_result"
    }
   ],
   "source": [
    "data"
   ]
  },
  {
   "cell_type": "code",
   "execution_count": 8,
   "id": "79aa2a3f",
   "metadata": {},
   "outputs": [
    {
     "data": {
      "text/plain": [
       "[Product(asin='AMZIDNUMBER', title='My Cool Product', price_str=None)]"
      ]
     },
     "execution_count": 8,
     "metadata": {},
     "output_type": "execute_result"
    }
   ],
   "source": [
    "list(models.Product.objects.all())"
   ]
  },
  {
   "cell_type": "code",
   "execution_count": null,
   "id": "8f5ced25",
   "metadata": {},
   "outputs": [],
   "source": []
  }
 ],
 "metadata": {
  "kernelspec": {
   "display_name": "Python 3 (ipykernel)",
   "language": "python",
   "name": "python3"
  },
  "language_info": {
   "codemirror_mode": {
    "name": "ipython",
    "version": 3
   },
   "file_extension": ".py",
   "mimetype": "text/x-python",
   "name": "python",
   "nbconvert_exporter": "python",
   "pygments_lexer": "ipython3",
   "version": "3.8.3"
  }
 },
 "nbformat": 4,
 "nbformat_minor": 5
}
