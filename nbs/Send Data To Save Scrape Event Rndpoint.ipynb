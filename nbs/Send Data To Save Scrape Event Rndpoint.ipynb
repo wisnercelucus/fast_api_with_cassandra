{
 "cells": [
  {
   "cell_type": "code",
   "execution_count": 7,
   "id": "77629ca1",
   "metadata": {},
   "outputs": [],
   "source": [
    "import requests"
   ]
  },
  {
   "cell_type": "code",
   "execution_count": 9,
   "id": "3c381ae7",
   "metadata": {},
   "outputs": [],
   "source": [
    "endpoint = 'http://localhost:8000/events/scrape'"
   ]
  },
  {
   "cell_type": "code",
   "execution_count": 20,
   "id": "587c7cf6",
   "metadata": {},
   "outputs": [
    {
     "name": "stdout",
     "output_type": "stream",
     "text": [
      "{'asin': 'B07PXGQC1Q', 'title': 'Apple AirPods (2nd Generation)', 'brand': None, 'price_str': '$123', 'country_of_origin': None}\n"
     ]
    }
   ],
   "source": [
    "# B07PXGQC1Q\n",
    "\n",
    "r = requests.post(endpoint, json={\"asin\": \"B07PXGQC1Q\", \"title\": \"Apple AirPods (2nd Generation)\", \"price_str\": \"$123\"})\n",
    "print(r.json())"
   ]
  },
  {
   "cell_type": "code",
   "execution_count": 21,
   "id": "590088a5",
   "metadata": {},
   "outputs": [
    {
     "name": "stdout",
     "output_type": "stream",
     "text": [
      "[{'asin': 'B07PXGQC1Q', 'title': 'Apple AirPods (2nd Generation)', 'price_str': '$123', 'created': 1644627530.549641, 'brand': None, 'country_of_origin': None}, {'asin': 'B07PXGQC1Q', 'title': 'Apple AirPods (2nd Generation)', 'price_str': '$123', 'created': 1644627777.901575, 'brand': None, 'country_of_origin': None}]\n"
     ]
    }
   ],
   "source": [
    "asin = \"B07PXGQC1Q\"\n",
    "endpoint2 = f'http://localhost:8000/products/{asin}/events'\n",
    "\n",
    "r2 = requests.get(endpoint2)\n",
    "print(r2.json())"
   ]
  },
  {
   "cell_type": "code",
   "execution_count": null,
   "id": "c821115e",
   "metadata": {},
   "outputs": [],
   "source": []
  }
 ],
 "metadata": {
  "kernelspec": {
   "display_name": "Python 3 (ipykernel)",
   "language": "python",
   "name": "python3"
  },
  "language_info": {
   "codemirror_mode": {
    "name": "ipython",
    "version": 3
   },
   "file_extension": ".py",
   "mimetype": "text/x-python",
   "name": "python",
   "nbconvert_exporter": "python",
   "pygments_lexer": "ipython3",
   "version": "3.8.3"
  }
 },
 "nbformat": 4,
 "nbformat_minor": 5
}
