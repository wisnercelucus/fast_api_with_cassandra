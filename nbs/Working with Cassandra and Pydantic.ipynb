{
 "cells": [
  {
   "cell_type": "code",
   "execution_count": 11,
   "id": "5577661c",
   "metadata": {},
   "outputs": [],
   "source": [
    "import os\n",
    "import uuid"
   ]
  },
  {
   "cell_type": "code",
   "execution_count": 2,
   "id": "05dc3f77",
   "metadata": {},
   "outputs": [
    {
     "name": "stdout",
     "output_type": "stream",
     "text": [
      "C:\\workspace\\webscraping\\Scrape-Websites-with-Python-FastAPI-Celery-NoSQL\n"
     ]
    }
   ],
   "source": [
    "cd C:/workspace/webscraping/Scrape-Websites-with-Python-FastAPI-Celery-NoSQL/"
   ]
  },
  {
   "cell_type": "code",
   "execution_count": 3,
   "id": "d5349ac7",
   "metadata": {},
   "outputs": [
    {
     "data": {
      "text/plain": [
       "'C:\\\\workspace\\\\webscraping\\\\Scrape-Websites-with-Python-FastAPI-Celery-NoSQL'"
      ]
     },
     "execution_count": 3,
     "metadata": {},
     "output_type": "execute_result"
    }
   ],
   "source": [
    "os.getcwd()"
   ]
  },
  {
   "cell_type": "code",
   "execution_count": 5,
   "id": "af1d2484",
   "metadata": {},
   "outputs": [],
   "source": [
    "from app import models, crud, schema"
   ]
  },
  {
   "cell_type": "code",
   "execution_count": 7,
   "id": "ea1772bc",
   "metadata": {},
   "outputs": [],
   "source": [
    "data = models.data"
   ]
  },
  {
   "cell_type": "code",
   "execution_count": 14,
   "id": "3490b11d",
   "metadata": {},
   "outputs": [],
   "source": [
    "from pydantic import ValidationError\n",
    "data = dict(data)\n",
    "data['uuid'] = uuid.uuid1()\n",
    "try:\n",
    "    schema.ProductScrapeEventSchema(**data)\n",
    "except ValidationError as e:\n",
    "    print(e.json())   "
   ]
  },
  {
   "cell_type": "code",
   "execution_count": null,
   "id": "4daac4da",
   "metadata": {},
   "outputs": [],
   "source": []
  }
 ],
 "metadata": {
  "kernelspec": {
   "display_name": "Python 3 (ipykernel)",
   "language": "python",
   "name": "python3"
  },
  "language_info": {
   "codemirror_mode": {
    "name": "ipython",
    "version": 3
   },
   "file_extension": ".py",
   "mimetype": "text/x-python",
   "name": "python",
   "nbconvert_exporter": "python",
   "pygments_lexer": "ipython3",
   "version": "3.8.3"
  }
 },
 "nbformat": 4,
 "nbformat_minor": 5
}
